{
 "cells": [
  {
   "cell_type": "code",
   "execution_count": null,
   "metadata": {},
   "outputs": [],
   "source": [
    "import cx_Oracle\n",
    "import pandas as pd\n",
    "\n",
    "dsn_tns = cx_Oracle.makedsn('HOSTNAME', '1521', service_name='XE') #if needed, place an 'r' before any parameter in order to address any special character such as '\\'.\n",
    "\n",
    "conn = cx_Oracle.connect(user=r'system', password='password', dsn=dsn_tns) #if needed, place an 'r' before any parameter in order to address any special character such as '\\'. For example, if your user name contains '\\', you'll need to place 'r' before the user name: user=r'User Name'\n",
    "\n",
    "c = conn.cursor()\n",
    "\n",
    "c.execute('Querry to run') # use triple quotes if you want to spread your query across multiple lines\n",
    "\n",
    "field_name = [field[0] for field in c.description]#storing the column names in a seperate object\n",
    "\n",
    "d = c.fetchall()\n",
    "\n",
    "df = pd.DataFrame(d, columns=field_name)#passing the column name object in the column attribute of dataframe\n",
    "\n",
    "print(df)"
   ]
  }
 ],
 "metadata": {
  "kernelspec": {
   "display_name": "Python 3",
   "language": "python",
   "name": "python3"
  },
  "language_info": {
   "codemirror_mode": {
    "name": "ipython",
    "version": 3
   },
   "file_extension": ".py",
   "mimetype": "text/x-python",
   "name": "python",
   "nbconvert_exporter": "python",
   "pygments_lexer": "ipython3",
   "version": "3.7.1"
  }
 },
 "nbformat": 4,
 "nbformat_minor": 2
}
